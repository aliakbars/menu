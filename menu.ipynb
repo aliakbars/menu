{
 "cells": [
  {
   "cell_type": "code",
   "execution_count": 1,
   "id": "ff74980b-7573-40db-8156-26018458b871",
   "metadata": {},
   "outputs": [],
   "source": [
    "from menu_solver import MenuSolver\n",
    "import logging\n",
    "import matplotlib.pyplot as plt\n",
    "import numpy as np\n",
    "import pandas as pd"
   ]
  },
  {
   "cell_type": "markdown",
   "id": "e11ef2a8-3481-4b77-988b-f2cac3ad871f",
   "metadata": {},
   "source": [
    "* [x] ≥ 1 mudah dalam sehari\n",
    "* [x] ≤ 1 sulit dalam sehari\n",
    "* [ ] 4 minggu\n",
    "* [ ] ≥ 1 sayur dalam sehari (atau diganti buah)\n",
    "* [ ] jajanan setiap dua kali sehari\n",
    "* [x] = 2 menu yang menggunakan bahan yang sama dalam seminggu\n",
    "* [x] menu yang sama tidak berurutan\n",
    "* [ ] 2 seafood per minggu\n",
    "* [ ] 2 takeaways per minggu"
   ]
  },
  {
   "cell_type": "code",
   "execution_count": 2,
   "id": "5b658271-a370-40f7-bdc3-2783e68657c1",
   "metadata": {},
   "outputs": [],
   "source": [
    "base_url = 'https://docs.google.com/spreadsheets/d/1Uz-k2SuEuEut6YEiVfshI4kQFYLxEFvMXGcEe32bCGo/pub?gid={}&single=true&output=csv'\n",
    "difficulty_df = pd.read_csv(base_url.format('416476293'), skiprows=1, names=['menu_id', 'difficulty'])\n",
    "ingredient_df = pd.read_csv(base_url.format('610644228'), skiprows=1, names=['menu_id', 'ingredient'])\n",
    "category_df = pd.read_csv(base_url.format('1564738075'), skiprows=1, names=['menu_id', 'category'])\n",
    "menu_df = pd.read_csv(base_url.format('828676903'), skiprows=1, names=[\"menu_id\", \"waktu\"])\n",
    "difficulty_dict = np.vectorize(difficulty_df.set_index('menu_id').difficulty.to_dict().get)\n",
    "\n",
    "n_days = 14\n",
    "n_candidates = 10\n",
    "n_fittest = 5\n",
    "n_iter = 100\n",
    "p_mutation = 0.1\n",
    "\n",
    "solver = MenuSolver(\n",
    "    menu_df,\n",
    "    difficulty_dict,\n",
    "    n_days,\n",
    "    n_candidates,\n",
    "    n_fittest,\n",
    "    n_iter,\n",
    "    p_mutation\n",
    ")"
   ]
  },
  {
   "cell_type": "code",
   "execution_count": 3,
   "id": "f7200eb4",
   "metadata": {},
   "outputs": [
    {
     "name": "stderr",
     "output_type": "stream",
     "text": [
      "  9%|█████▏                                                   | 9/100 [00:00<00:01, 56.10it/s]\n"
     ]
    },
    {
     "data": {
      "text/html": [
       "<div>\n",
       "<style scoped>\n",
       "    .dataframe tbody tr th:only-of-type {\n",
       "        vertical-align: middle;\n",
       "    }\n",
       "\n",
       "    .dataframe tbody tr th {\n",
       "        vertical-align: top;\n",
       "    }\n",
       "\n",
       "    .dataframe thead th {\n",
       "        text-align: right;\n",
       "    }\n",
       "</style>\n",
       "<table border=\"1\" class=\"dataframe\">\n",
       "  <thead>\n",
       "    <tr style=\"text-align: right;\">\n",
       "      <th></th>\n",
       "      <th>0</th>\n",
       "      <th>1</th>\n",
       "      <th>2</th>\n",
       "      <th>3</th>\n",
       "      <th>4</th>\n",
       "      <th>5</th>\n",
       "      <th>6</th>\n",
       "      <th>7</th>\n",
       "      <th>8</th>\n",
       "      <th>9</th>\n",
       "      <th>10</th>\n",
       "      <th>11</th>\n",
       "      <th>12</th>\n",
       "      <th>13</th>\n",
       "    </tr>\n",
       "  </thead>\n",
       "  <tbody>\n",
       "    <tr>\n",
       "      <th>0</th>\n",
       "      <td>Mac &amp; cheese</td>\n",
       "      <td>Sandwich - Tuna</td>\n",
       "      <td>Tuna quesadilla</td>\n",
       "      <td>Nasi uduk + sambal goreng udang</td>\n",
       "      <td>Nasi kuning + Sambal goreng udang</td>\n",
       "      <td>Apple turnover</td>\n",
       "      <td>Pasta - Tuna</td>\n",
       "      <td>Roasted potatoes + Omelette</td>\n",
       "      <td>Sandwich - Udang</td>\n",
       "      <td>Mashed potatoes caserole</td>\n",
       "      <td>Tuna quesadilla</td>\n",
       "      <td>Garlic Butter Rice + mayak egg</td>\n",
       "      <td>Sandwich - Udang</td>\n",
       "      <td>Sup ayam jagung + Garlic Bread</td>\n",
       "    </tr>\n",
       "    <tr>\n",
       "      <th>1</th>\n",
       "      <td>Tumis pok choy + Nugget</td>\n",
       "      <td>Udang saus mentega</td>\n",
       "      <td>Bakso</td>\n",
       "      <td>Sayur bayam + Tempe</td>\n",
       "      <td>Capcay</td>\n",
       "      <td>Katsu dan kari</td>\n",
       "      <td>Sop Merah + Garlic Bread</td>\n",
       "      <td>Udang saus tiram</td>\n",
       "      <td>Cap Cay + katsu</td>\n",
       "      <td>Ayam goreng tepung</td>\n",
       "      <td>Honey garlic salmon</td>\n",
       "      <td>Ayam goreng tepung</td>\n",
       "      <td>Kari ayam</td>\n",
       "      <td>Chili con carne</td>\n",
       "    </tr>\n",
       "    <tr>\n",
       "      <th>2</th>\n",
       "      <td>Pho</td>\n",
       "      <td>Mun tahu</td>\n",
       "      <td>Batagor</td>\n",
       "      <td>Honey sesame chicken</td>\n",
       "      <td>Sayur bayam + Bakwan udang</td>\n",
       "      <td>Tumis buncis daging giling</td>\n",
       "      <td>Katsu-don</td>\n",
       "      <td>Honey sesame chicken</td>\n",
       "      <td>Pasta - Bolognese</td>\n",
       "      <td>Tahu Telor Surabaya</td>\n",
       "      <td>One-pot pasta</td>\n",
       "      <td>Puff pastry pizza</td>\n",
       "      <td>Ayam asam manis</td>\n",
       "      <td>Ketoprak</td>\n",
       "    </tr>\n",
       "  </tbody>\n",
       "</table>\n",
       "</div>"
      ],
      "text/plain": [
       "                        0                   1                2   \\\n",
       "0             Mac & cheese     Sandwich - Tuna  Tuna quesadilla   \n",
       "1  Tumis pok choy + Nugget  Udang saus mentega            Bakso   \n",
       "2                      Pho            Mun tahu          Batagor   \n",
       "\n",
       "                                3                                  4   \\\n",
       "0  Nasi uduk + sambal goreng udang  Nasi kuning + Sambal goreng udang   \n",
       "1              Sayur bayam + Tempe                             Capcay   \n",
       "2             Honey sesame chicken         Sayur bayam + Bakwan udang   \n",
       "\n",
       "                           5                         6   \\\n",
       "0              Apple turnover              Pasta - Tuna   \n",
       "1              Katsu dan kari  Sop Merah + Garlic Bread   \n",
       "2  Tumis buncis daging giling                 Katsu-don   \n",
       "\n",
       "                            7                  8                         9   \\\n",
       "0  Roasted potatoes + Omelette   Sandwich - Udang  Mashed potatoes caserole   \n",
       "1             Udang saus tiram    Cap Cay + katsu        Ayam goreng tepung   \n",
       "2         Honey sesame chicken  Pasta - Bolognese       Tahu Telor Surabaya   \n",
       "\n",
       "                    10                              11                12  \\\n",
       "0      Tuna quesadilla  Garlic Butter Rice + mayak egg  Sandwich - Udang   \n",
       "1  Honey garlic salmon              Ayam goreng tepung        Kari ayam    \n",
       "2        One-pot pasta               Puff pastry pizza   Ayam asam manis   \n",
       "\n",
       "                               13  \n",
       "0  Sup ayam jagung + Garlic Bread  \n",
       "1                 Chili con carne  \n",
       "2                        Ketoprak  "
      ]
     },
     "execution_count": 3,
     "metadata": {},
     "output_type": "execute_result"
    }
   ],
   "source": [
    "result = solver.run()\n",
    "result"
   ]
  },
  {
   "cell_type": "code",
   "execution_count": 4,
   "id": "19747333-fd52-46b1-b55d-3acc8dbd1723",
   "metadata": {},
   "outputs": [
    {
     "name": "stdout",
     "output_type": "stream",
     "text": [
      "Day 1\n",
      "Mac & cheese\n",
      "Tumis pok choy + Nugget\n",
      "Pho\n",
      "\n",
      "Day 2\n",
      "Sandwich - Tuna\n",
      "Udang saus mentega\n",
      "Mun tahu\n",
      "\n",
      "Day 3\n",
      "Tuna quesadilla\n",
      "Bakso\n",
      "Batagor\n",
      "\n",
      "Day 4\n",
      "Nasi uduk + sambal goreng udang\n",
      "Sayur bayam + Tempe\n",
      "Honey sesame chicken\n",
      "\n",
      "Day 5\n",
      "Nasi kuning + Sambal goreng udang\n",
      "Capcay\n",
      "Sayur bayam + Bakwan udang\n",
      "\n",
      "Day 6\n",
      "Apple turnover\n",
      "Katsu dan kari\n",
      "Tumis buncis daging giling\n",
      "\n",
      "Day 7\n",
      "Pasta - Tuna\n",
      "Sop Merah + Garlic Bread\n",
      "Katsu-don\n",
      "\n",
      "Day 8\n",
      "Roasted potatoes + Omelette\n",
      "Udang saus tiram\n",
      "Honey sesame chicken\n",
      "\n",
      "Day 9\n",
      "Sandwich - Udang\n",
      "Cap Cay + katsu\n",
      "Pasta - Bolognese\n",
      "\n",
      "Day 10\n",
      "Mashed potatoes caserole\n",
      "Ayam goreng tepung\n",
      "Tahu Telor Surabaya\n",
      "\n",
      "Day 11\n",
      "Tuna quesadilla\n",
      "Honey garlic salmon\n",
      "One-pot pasta\n",
      "\n",
      "Day 12\n",
      "Garlic Butter Rice + mayak egg\n",
      "Ayam goreng tepung\n",
      "Puff pastry pizza\n",
      "\n",
      "Day 13\n",
      "Sandwich - Udang\n",
      "Kari ayam \n",
      "Ayam asam manis\n",
      "\n",
      "Day 14\n",
      "Sup ayam jagung + Garlic Bread\n",
      "Chili con carne\n",
      "Ketoprak\n",
      "\n"
     ]
    }
   ],
   "source": [
    "for i, row in result.T.iterrows():\n",
    "    print(f\"Day {i+1}\")\n",
    "    print(row[0])\n",
    "    print(row[1])\n",
    "    print(row[2])\n",
    "    print()"
   ]
  },
  {
   "cell_type": "code",
   "execution_count": 5,
   "id": "053f7c8a-d767-4581-b62e-d640b0b0cfed",
   "metadata": {},
   "outputs": [
    {
     "data": {
      "image/png": "[encoded data removed]",
      "text/plain": [
       "<Figure size 432x288 with 1 Axes>"
      ]
     },
     "metadata": {
      "image/png": {
       "height": 261,
       "width": 387
      },
      "needs_background": "light"
     },
     "output_type": "display_data"
    }
   ],
   "source": [
    "sh = solver.score_history_\n",
    "plt.plot(sh.index, sh['mean'])\n",
    "plt.fill_between(\n",
    "    sh.index,\n",
    "    np.clip(sh['mean'] - 2 * sh['std'], 0, None),\n",
    "    sh['mean'] + 2 * sh['std'],\n",
    "    alpha=.1\n",
    ")\n",
    "plt.xlabel('iteration')\n",
    "plt.ylabel('fitness score')\n",
    "plt.show()"
   ]
  },
  {
   "cell_type": "code",
   "execution_count": 10,
   "id": "03776ef0-9965-4daa-96d2-45cf858c7549",
   "metadata": {},
   "outputs": [
    {
     "data": {
      "text/plain": [
       "['Apple crumble', 'Banana bread', 'Bolen pisang', 'Umm Ali', 'Risol rogut']"
      ]
     },
     "execution_count": 10,
     "metadata": {},
     "output_type": "execute_result"
    }
   ],
   "source": [
    "list(category_df.query('category == \"Jajanan\"').sample(5).menu_id.values)"
   ]
  }
 ],
 "metadata": {
  "interpreter": {
   "hash": "b62357066d82dc188b94f78a67a8ae46ef6f7d39741a656d5d3ccb39edebf1cf"
  },
  "kernelspec": {
   "display_name": "Python 3 (ipykernel)",
   "language": "python",
   "name": "python3"
  },
  "language_info": {
   "codemirror_mode": {
    "name": "ipython",
    "version": 3
   },
   "file_extension": ".py",
   "mimetype": "text/x-python",
   "name": "python",
   "nbconvert_exporter": "python",
   "pygments_lexer": "ipython3",
   "version": "3.9.9"
  }
 },
 "nbformat": 4,
 "nbformat_minor": 5
}
